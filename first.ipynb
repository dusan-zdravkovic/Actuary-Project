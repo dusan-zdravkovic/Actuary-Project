{
 "cells": [
  {
   "cell_type": "code",
   "execution_count": 1,
   "id": "5df32f71",
   "metadata": {},
   "outputs": [],
   "source": [
    "# Survival Models \n",
    "# Date: 2025-06-24\n",
    "\n",
    "# This notebook explores survival models used in actuarial science.\n",
    "# We'll begin with basic lifetime distributions and simulate survival times.\n",
    "\n",
    "import numpy as np\n",
    "import pandas as pd\n",
    "import matplotlib.pyplot as plt\n",
    "from scipy.stats import expon, weibull_min\n",
    "\n",
    "# Set default plot style\n",
    "plt.style.use(\"ggplot\")"
   ]
  },
  {
   "cell_type": "code",
   "execution_count": 2,
   "id": "f9c951b8",
   "metadata": {},
   "outputs": [
    {
     "data": {
      "image/png": "[encoded data removed]",
      "text/plain": [
       "<Figure size 640x480 with 1 Axes>"
      ]
     },
     "metadata": {},
     "output_type": "display_data"
    }
   ],
   "source": [
    "# Simulate lifetimes using an exponential distribution\n",
    "# The exponential distribution models the time until an event (like death or failure) with constant hazard rate\n",
    "\n",
    "# λ (lambda) is the rate parameter; higher lambda = shorter lifetimes\n",
    "lambda_val = 0.1  # example rate\n",
    "n = 1000  # number of simulated lifetimes\n",
    "\n",
    "# Generate lifetimes\n",
    "lifetimes = np.random.exponential(scale=1/lambda_val, size=n)\n",
    "\n",
    "# Plot histogram of simulated lifetimes\n",
    "plt.hist(lifetimes, bins=30, edgecolor='black')\n",
    "plt.title('Simulated Exponential Lifetimes')\n",
    "plt.xlabel('Time')\n",
    "plt.ylabel('Frequency')\n",
    "plt.show()"
   ]
  },
  {
   "cell_type": "code",
   "execution_count": 3,
   "id": "394036ca",
   "metadata": {},
   "outputs": [
    {
     "data": {
      "application/vnd.microsoft.datawrangler.viewer.v0+json": {
       "columns": [
        {
         "name": "index",
         "rawType": "int64",
         "type": "integer"
        },
        {
         "name": "Name",
         "rawType": "object",
         "type": "string"
        },
        {
         "name": "Region",
         "rawType": "object",
         "type": "string"
        },
        {
         "name": "Volume",
         "rawType": "int64",
         "type": "integer"
        }
       ],
       "ref": "d77ad1b9-80ef-4557-b844-d58e896241f4",
       "rows": [
        [
         "0",
         "Ile-de-France",
         "R11",
         "11938714"
        ],
        [
         "1",
         "Champagne-Ardenne",
         "R21",
         "1373935"
        ],
        [
         "2",
         "Picardie",
         "R22",
         "1962150"
        ],
        [
         "3",
         "Haute-Normandie",
         "R23",
         "1879146"
        ],
        [
         "4",
         "Centre",
         "R24",
         "2619613"
        ]
       ],
       "shape": {
        "columns": 3,
        "rows": 5
       }
      },
      "text/html": [
       "<div>\n",
       "<style scoped>\n",
       "    .dataframe tbody tr th:only-of-type {\n",
       "        vertical-align: middle;\n",
       "    }\n",
       "\n",
       "    .dataframe tbody tr th {\n",
       "        vertical-align: top;\n",
       "    }\n",
       "\n",
       "    .dataframe thead th {\n",
       "        text-align: right;\n",
       "    }\n",
       "</style>\n",
       "<table border=\"1\" class=\"dataframe\">\n",
       "  <thead>\n",
       "    <tr style=\"text-align: right;\">\n",
       "      <th></th>\n",
       "      <th>Name</th>\n",
       "      <th>Region</th>\n",
       "      <th>Volume</th>\n",
       "    </tr>\n",
       "  </thead>\n",
       "  <tbody>\n",
       "    <tr>\n",
       "      <th>0</th>\n",
       "      <td>Ile-de-France</td>\n",
       "      <td>R11</td>\n",
       "      <td>11938714</td>\n",
       "    </tr>\n",
       "    <tr>\n",
       "      <th>1</th>\n",
       "      <td>Champagne-Ardenne</td>\n",
       "      <td>R21</td>\n",
       "      <td>1373935</td>\n",
       "    </tr>\n",
       "    <tr>\n",
       "      <th>2</th>\n",
       "      <td>Picardie</td>\n",
       "      <td>R22</td>\n",
       "      <td>1962150</td>\n",
       "    </tr>\n",
       "    <tr>\n",
       "      <th>3</th>\n",
       "      <td>Haute-Normandie</td>\n",
       "      <td>R23</td>\n",
       "      <td>1879146</td>\n",
       "    </tr>\n",
       "    <tr>\n",
       "      <th>4</th>\n",
       "      <td>Centre</td>\n",
       "      <td>R24</td>\n",
       "      <td>2619613</td>\n",
       "    </tr>\n",
       "  </tbody>\n",
       "</table>\n",
       "</div>"
      ],
      "text/plain": [
       "                Name Region    Volume\n",
       "0      Ile-de-France    R11  11938714\n",
       "1  Champagne-Ardenne    R21   1373935\n",
       "2           Picardie    R22   1962150\n",
       "3    Haute-Normandie    R23   1879146\n",
       "4             Centre    R24   2619613"
      ]
     },
     "execution_count": 3,
     "metadata": {},
     "output_type": "execute_result"
    }
   ],
   "source": [
    "import pandas as pd\n",
    "\n",
    "# Load and view regions.csv using full file path and UTF-8 encoding\n",
    "file_path = \"/Users/dusanzdravkovic/Desktop/Actuary-Project/data/regions.csv\"\n",
    "regions_df = pd.read_csv(file_path, sep=\";\", encoding=\"ISO-8859-1\", engine=\"python\")\n",
    "\n",
    "# Show first few rows\n",
    "regions_df.head()"
   ]
  },
  {
   "cell_type": "code",
   "execution_count": 4,
   "id": "2beda6df",
   "metadata": {},
   "outputs": [
    {
     "data": {
      "application/vnd.microsoft.datawrangler.viewer.v0+json": {
       "columns": [
        {
         "name": "index",
         "rawType": "int64",
         "type": "integer"
        },
        {
         "name": "Name",
         "rawType": "object",
         "type": "string"
        },
        {
         "name": "Region",
         "rawType": "object",
         "type": "string"
        },
        {
         "name": "Volume",
         "rawType": "int64",
         "type": "integer"
        }
       ],
       "ref": "2fd0c10c-3594-4128-9235-1646c869f1ad",
       "rows": [
        [
         "0",
         "Ile-de-France",
         "R11",
         "11938714"
        ],
        [
         "1",
         "Champagne-Ardenne",
         "R21",
         "1373935"
        ],
        [
         "2",
         "Picardie",
         "R22",
         "1962150"
        ],
        [
         "3",
         "Haute-Normandie",
         "R23",
         "1879146"
        ],
        [
         "4",
         "Centre",
         "R24",
         "2619613"
        ]
       ],
       "shape": {
        "columns": 3,
        "rows": 5
       }
      },
      "text/html": [
       "<div>\n",
       "<style scoped>\n",
       "    .dataframe tbody tr th:only-of-type {\n",
       "        vertical-align: middle;\n",
       "    }\n",
       "\n",
       "    .dataframe tbody tr th {\n",
       "        vertical-align: top;\n",
       "    }\n",
       "\n",
       "    .dataframe thead th {\n",
       "        text-align: right;\n",
       "    }\n",
       "</style>\n",
       "<table border=\"1\" class=\"dataframe\">\n",
       "  <thead>\n",
       "    <tr style=\"text-align: right;\">\n",
       "      <th></th>\n",
       "      <th>Name</th>\n",
       "      <th>Region</th>\n",
       "      <th>Volume</th>\n",
       "    </tr>\n",
       "  </thead>\n",
       "  <tbody>\n",
       "    <tr>\n",
       "      <th>0</th>\n",
       "      <td>Ile-de-France</td>\n",
       "      <td>R11</td>\n",
       "      <td>11938714</td>\n",
       "    </tr>\n",
       "    <tr>\n",
       "      <th>1</th>\n",
       "      <td>Champagne-Ardenne</td>\n",
       "      <td>R21</td>\n",
       "      <td>1373935</td>\n",
       "    </tr>\n",
       "    <tr>\n",
       "      <th>2</th>\n",
       "      <td>Picardie</td>\n",
       "      <td>R22</td>\n",
       "      <td>1962150</td>\n",
       "    </tr>\n",
       "    <tr>\n",
       "      <th>3</th>\n",
       "      <td>Haute-Normandie</td>\n",
       "      <td>R23</td>\n",
       "      <td>1879146</td>\n",
       "    </tr>\n",
       "    <tr>\n",
       "      <th>4</th>\n",
       "      <td>Centre</td>\n",
       "      <td>R24</td>\n",
       "      <td>2619613</td>\n",
       "    </tr>\n",
       "  </tbody>\n",
       "</table>\n",
       "</div>"
      ],
      "text/plain": [
       "                Name Region    Volume\n",
       "0      Ile-de-France    R11  11938714\n",
       "1  Champagne-Ardenne    R21   1373935\n",
       "2           Picardie    R22   1962150\n",
       "3    Haute-Normandie    R23   1879146\n",
       "4             Centre    R24   2619613"
      ]
     },
     "execution_count": 4,
     "metadata": {},
     "output_type": "execute_result"
    }
   ],
   "source": [
    "# Clean column names\n",
    "regions_df.columns = regions_df.columns.str.strip().str.replace('#', 'Volume').str.replace(' ', '_')\n",
    "regions_df.head()"
   ]
  },
  {
   "cell_type": "code",
   "execution_count": 5,
   "id": "58086a02",
   "metadata": {},
   "outputs": [
    {
     "name": "stdout",
     "output_type": "stream",
     "text": [
      "<class 'pandas.core.frame.DataFrame'>\n",
      "RangeIndex: 22 entries, 0 to 21\n",
      "Data columns (total 3 columns):\n",
      " #   Column  Non-Null Count  Dtype \n",
      "---  ------  --------------  ----- \n",
      " 0   Name    22 non-null     object\n",
      " 1   Region  22 non-null     object\n",
      " 2   Volume  22 non-null     int64 \n",
      "dtypes: int64(1), object(2)\n",
      "memory usage: 660.0+ bytes\n"
     ]
    },
    {
     "data": {
      "application/vnd.microsoft.datawrangler.viewer.v0+json": {
       "columns": [
        {
         "name": "index",
         "rawType": "object",
         "type": "string"
        },
        {
         "name": "Volume",
         "rawType": "float64",
         "type": "float"
        }
       ],
       "ref": "b343b56f-af2d-4de1-89b1-387cd849f843",
       "rows": [
        [
         "count",
         "22.0"
        ],
        [
         "mean",
         "2918502.272727273"
        ],
        [
         "std",
         "2460586.0510302205"
        ],
        [
         "min",
         "314867.0"
        ],
        [
         "25%",
         "1562012.75"
        ],
        [
         "50%",
         "2184337.0"
        ],
        [
         "75%",
         "3316244.0"
        ],
        [
         "max",
         "11938714.0"
        ]
       ],
       "shape": {
        "columns": 1,
        "rows": 8
       }
      },
      "text/html": [
       "<div>\n",
       "<style scoped>\n",
       "    .dataframe tbody tr th:only-of-type {\n",
       "        vertical-align: middle;\n",
       "    }\n",
       "\n",
       "    .dataframe tbody tr th {\n",
       "        vertical-align: top;\n",
       "    }\n",
       "\n",
       "    .dataframe thead th {\n",
       "        text-align: right;\n",
       "    }\n",
       "</style>\n",
       "<table border=\"1\" class=\"dataframe\">\n",
       "  <thead>\n",
       "    <tr style=\"text-align: right;\">\n",
       "      <th></th>\n",
       "      <th>Volume</th>\n",
       "    </tr>\n",
       "  </thead>\n",
       "  <tbody>\n",
       "    <tr>\n",
       "      <th>count</th>\n",
       "      <td>2.200000e+01</td>\n",
       "    </tr>\n",
       "    <tr>\n",
       "      <th>mean</th>\n",
       "      <td>2.918502e+06</td>\n",
       "    </tr>\n",
       "    <tr>\n",
       "      <th>std</th>\n",
       "      <td>2.460586e+06</td>\n",
       "    </tr>\n",
       "    <tr>\n",
       "      <th>min</th>\n",
       "      <td>3.148670e+05</td>\n",
       "    </tr>\n",
       "    <tr>\n",
       "      <th>25%</th>\n",
       "      <td>1.562013e+06</td>\n",
       "    </tr>\n",
       "    <tr>\n",
       "      <th>50%</th>\n",
       "      <td>2.184337e+06</td>\n",
       "    </tr>\n",
       "    <tr>\n",
       "      <th>75%</th>\n",
       "      <td>3.316244e+06</td>\n",
       "    </tr>\n",
       "    <tr>\n",
       "      <th>max</th>\n",
       "      <td>1.193871e+07</td>\n",
       "    </tr>\n",
       "  </tbody>\n",
       "</table>\n",
       "</div>"
      ],
      "text/plain": [
       "             Volume\n",
       "count  2.200000e+01\n",
       "mean   2.918502e+06\n",
       "std    2.460586e+06\n",
       "min    3.148670e+05\n",
       "25%    1.562013e+06\n",
       "50%    2.184337e+06\n",
       "75%    3.316244e+06\n",
       "max    1.193871e+07"
      ]
     },
     "execution_count": 5,
     "metadata": {},
     "output_type": "execute_result"
    }
   ],
   "source": [
    "regions_df.info()\n",
    "regions_df.describe()"
   ]
  },
  {
   "cell_type": "code",
   "execution_count": 6,
   "id": "4788d577",
   "metadata": {},
   "outputs": [
    {
     "data": {
      "application/vnd.microsoft.datawrangler.viewer.v0+json": {
       "columns": [
        {
         "name": "index",
         "rawType": "int64",
         "type": "integer"
        },
        {
         "name": "Name",
         "rawType": "object",
         "type": "string"
        },
        {
         "name": "Region",
         "rawType": "object",
         "type": "string"
        },
        {
         "name": "Volume",
         "rawType": "int64",
         "type": "integer"
        }
       ],
       "ref": "96e2dd6b-705b-4d68-b1a4-0ae480f7fe1f",
       "rows": [
        [
         "0",
         "Ile-de-France",
         "R11",
         "11938714"
        ],
        [
         "17",
         "Rhône-Alpes",
         "R82",
         "6384816"
        ],
        [
         "20",
         "Provence Alpes Côte-d'Azur (PACA)",
         "R93",
         "4984058"
        ],
        [
         "7",
         "Nord-Pas-de-Calais",
         "R31",
         "4107148"
        ],
        [
         "11",
         "Pays de la Loire",
         "R52",
         "3676582"
        ],
        [
         "14",
         "Aquitaine",
         "R72",
         "3321058"
        ],
        [
         "12",
         "Brittany - Bretagne",
         "R53",
         "3301802"
        ],
        [
         "15",
         "Midi-Pyrénées",
         "R73",
         "2964308"
        ],
        [
         "19",
         "Languedoc-Roussillon",
         "R91",
         "2693275"
        ],
        [
         "4",
         "Centre",
         "R24",
         "2619613"
        ]
       ],
       "shape": {
        "columns": 3,
        "rows": 10
       }
      },
      "text/html": [
       "<div>\n",
       "<style scoped>\n",
       "    .dataframe tbody tr th:only-of-type {\n",
       "        vertical-align: middle;\n",
       "    }\n",
       "\n",
       "    .dataframe tbody tr th {\n",
       "        vertical-align: top;\n",
       "    }\n",
       "\n",
       "    .dataframe thead th {\n",
       "        text-align: right;\n",
       "    }\n",
       "</style>\n",
       "<table border=\"1\" class=\"dataframe\">\n",
       "  <thead>\n",
       "    <tr style=\"text-align: right;\">\n",
       "      <th></th>\n",
       "      <th>Name</th>\n",
       "      <th>Region</th>\n",
       "      <th>Volume</th>\n",
       "    </tr>\n",
       "  </thead>\n",
       "  <tbody>\n",
       "    <tr>\n",
       "      <th>0</th>\n",
       "      <td>Ile-de-France</td>\n",
       "      <td>R11</td>\n",
       "      <td>11938714</td>\n",
       "    </tr>\n",
       "    <tr>\n",
       "      <th>17</th>\n",
       "      <td>Rhône-Alpes</td>\n",
       "      <td>R82</td>\n",
       "      <td>6384816</td>\n",
       "    </tr>\n",
       "    <tr>\n",
       "      <th>20</th>\n",
       "      <td>Provence Alpes Côte-d'Azur (PACA)</td>\n",
       "      <td>R93</td>\n",
       "      <td>4984058</td>\n",
       "    </tr>\n",
       "    <tr>\n",
       "      <th>7</th>\n",
       "      <td>Nord-Pas-de-Calais</td>\n",
       "      <td>R31</td>\n",
       "      <td>4107148</td>\n",
       "    </tr>\n",
       "    <tr>\n",
       "      <th>11</th>\n",
       "      <td>Pays de la Loire</td>\n",
       "      <td>R52</td>\n",
       "      <td>3676582</td>\n",
       "    </tr>\n",
       "    <tr>\n",
       "      <th>14</th>\n",
       "      <td>Aquitaine</td>\n",
       "      <td>R72</td>\n",
       "      <td>3321058</td>\n",
       "    </tr>\n",
       "    <tr>\n",
       "      <th>12</th>\n",
       "      <td>Brittany - Bretagne</td>\n",
       "      <td>R53</td>\n",
       "      <td>3301802</td>\n",
       "    </tr>\n",
       "    <tr>\n",
       "      <th>15</th>\n",
       "      <td>Midi-Pyrénées</td>\n",
       "      <td>R73</td>\n",
       "      <td>2964308</td>\n",
       "    </tr>\n",
       "    <tr>\n",
       "      <th>19</th>\n",
       "      <td>Languedoc-Roussillon</td>\n",
       "      <td>R91</td>\n",
       "      <td>2693275</td>\n",
       "    </tr>\n",
       "    <tr>\n",
       "      <th>4</th>\n",
       "      <td>Centre</td>\n",
       "      <td>R24</td>\n",
       "      <td>2619613</td>\n",
       "    </tr>\n",
       "  </tbody>\n",
       "</table>\n",
       "</div>"
      ],
      "text/plain": [
       "                                 Name Region    Volume\n",
       "0                       Ile-de-France    R11  11938714\n",
       "17                        Rhône-Alpes    R82   6384816\n",
       "20  Provence Alpes Côte-d'Azur (PACA)    R93   4984058\n",
       "7                  Nord-Pas-de-Calais    R31   4107148\n",
       "11                   Pays de la Loire    R52   3676582\n",
       "14                          Aquitaine    R72   3321058\n",
       "12                Brittany - Bretagne    R53   3301802\n",
       "15                      Midi-Pyrénées    R73   2964308\n",
       "19               Languedoc-Roussillon    R91   2693275\n",
       "4                              Centre    R24   2619613"
      ]
     },
     "execution_count": 6,
     "metadata": {},
     "output_type": "execute_result"
    }
   ],
   "source": [
    "regions_df.sort_values(by=\"Volume\", ascending=False).head(10)"
   ]
  },
  {
   "cell_type": "code",
   "execution_count": 7,
   "id": "f3d8af34",
   "metadata": {},
   "outputs": [
    {
     "data": {
      "image/png": "[encoded data removed]",
      "text/plain": [
       "<Figure size 1200x600 with 1 Axes>"
      ]
     },
     "metadata": {},
     "output_type": "display_data"
    }
   ],
   "source": [
    "import matplotlib.pyplot as plt\n",
    "\n",
    "plt.figure(figsize=(12,6))\n",
    "plt.barh(regions_df['Name'], regions_df['Volume'])\n",
    "plt.xlabel('Volume')\n",
    "plt.ylabel('Region')\n",
    "plt.title('Volume by Region')\n",
    "plt.gca().invert_yaxis()\n",
    "plt.tight_layout()\n",
    "plt.show()"
   ]
  },
  {
   "cell_type": "code",
   "execution_count": 8,
   "id": "e62b28f2",
   "metadata": {},
   "outputs": [
    {
     "data": {
      "application/vnd.microsoft.datawrangler.viewer.v0+json": {
       "columns": [
        {
         "name": "index",
         "rawType": "int64",
         "type": "integer"
        },
        {
         "name": "Ind",
         "rawType": "int64",
         "type": "integer"
        },
        {
         "name": "Rname",
         "rawType": "object",
         "type": "string"
        },
        {
         "name": "Name",
         "rawType": "object",
         "type": "string"
        }
       ],
       "ref": "2a6bd053-4172-4278-a501-3cc57a117b7a",
       "rows": [
        [
         "0",
         "1",
         "Nord",
         "Nord-Pas-de-Calais"
        ],
        [
         "1",
         "2",
         "Pas-de-Calais",
         "Nord-Pas-de-Calais"
        ],
        [
         "2",
         "3",
         "Somme",
         "Picardie"
        ],
        [
         "3",
         "4",
         "Nord:1",
         "Nord-Pas-de-Calais"
        ],
        [
         "4",
         "5",
         "Ardennes",
         "Champagne-Ardenne"
        ]
       ],
       "shape": {
        "columns": 3,
        "rows": 5
       }
      },
      "text/html": [
       "<div>\n",
       "<style scoped>\n",
       "    .dataframe tbody tr th:only-of-type {\n",
       "        vertical-align: middle;\n",
       "    }\n",
       "\n",
       "    .dataframe tbody tr th {\n",
       "        vertical-align: top;\n",
       "    }\n",
       "\n",
       "    .dataframe thead th {\n",
       "        text-align: right;\n",
       "    }\n",
       "</style>\n",
       "<table border=\"1\" class=\"dataframe\">\n",
       "  <thead>\n",
       "    <tr style=\"text-align: right;\">\n",
       "      <th></th>\n",
       "      <th>Ind</th>\n",
       "      <th>Rname</th>\n",
       "      <th>Name</th>\n",
       "    </tr>\n",
       "  </thead>\n",
       "  <tbody>\n",
       "    <tr>\n",
       "      <th>0</th>\n",
       "      <td>1</td>\n",
       "      <td>Nord</td>\n",
       "      <td>Nord-Pas-de-Calais</td>\n",
       "    </tr>\n",
       "    <tr>\n",
       "      <th>1</th>\n",
       "      <td>2</td>\n",
       "      <td>Pas-de-Calais</td>\n",
       "      <td>Nord-Pas-de-Calais</td>\n",
       "    </tr>\n",
       "    <tr>\n",
       "      <th>2</th>\n",
       "      <td>3</td>\n",
       "      <td>Somme</td>\n",
       "      <td>Picardie</td>\n",
       "    </tr>\n",
       "    <tr>\n",
       "      <th>3</th>\n",
       "      <td>4</td>\n",
       "      <td>Nord:1</td>\n",
       "      <td>Nord-Pas-de-Calais</td>\n",
       "    </tr>\n",
       "    <tr>\n",
       "      <th>4</th>\n",
       "      <td>5</td>\n",
       "      <td>Ardennes</td>\n",
       "      <td>Champagne-Ardenne</td>\n",
       "    </tr>\n",
       "  </tbody>\n",
       "</table>\n",
       "</div>"
      ],
      "text/plain": [
       "   Ind          Rname                Name\n",
       "0    1           Nord  Nord-Pas-de-Calais\n",
       "1    2  Pas-de-Calais  Nord-Pas-de-Calais\n",
       "2    3          Somme            Picardie\n",
       "3    4         Nord:1  Nord-Pas-de-Calais\n",
       "4    5       Ardennes   Champagne-Ardenne"
      ]
     },
     "execution_count": 8,
     "metadata": {},
     "output_type": "execute_result"
    }
   ],
   "source": [
    "# Load and view departements.csv\n",
    "departments_path = \"/Users/dusanzdravkovic/Desktop/Actuary-Project/data/departements.csv\"\n",
    "departments_df = pd.read_csv(departments_path, sep=\";\", encoding=\"ISO-8859-1\", engine=\"python\")\n",
    "\n",
    "# Clean column names\n",
    "departments_df.columns = departments_df.columns.str.strip().str.replace('#', 'Volume').str.replace(' ', '_')\n",
    "\n",
    "# Preview\n",
    "departments_df.head()"
   ]
  },
  {
   "cell_type": "code",
   "execution_count": 9,
   "id": "052d65b8",
   "metadata": {},
   "outputs": [
    {
     "data": {
      "application/vnd.microsoft.datawrangler.viewer.v0+json": {
       "columns": [
        {
         "name": "index",
         "rawType": "int64",
         "type": "integer"
        },
        {
         "name": "Region_Name",
         "rawType": "object",
         "type": "string"
        },
        {
         "name": "Department_Count",
         "rawType": "int64",
         "type": "integer"
        }
       ],
       "ref": "62286a3c-d418-424a-861c-4d41a295a3d3",
       "rows": [
        [
         "0",
         "Brittany - Bretagne",
         "11"
        ],
        [
         "1",
         "Midi-Pyrénées",
         "10"
        ],
        [
         "2",
         "Provence Alpes Côte-d'Azur (PACA)",
         "10"
        ],
        [
         "3",
         "Ile-de-France",
         "8"
        ],
        [
         "4",
         "Rhône-Alpes",
         "8"
        ]
       ],
       "shape": {
        "columns": 2,
        "rows": 5
       }
      },
      "text/html": [
       "<div>\n",
       "<style scoped>\n",
       "    .dataframe tbody tr th:only-of-type {\n",
       "        vertical-align: middle;\n",
       "    }\n",
       "\n",
       "    .dataframe tbody tr th {\n",
       "        vertical-align: top;\n",
       "    }\n",
       "\n",
       "    .dataframe thead th {\n",
       "        text-align: right;\n",
       "    }\n",
       "</style>\n",
       "<table border=\"1\" class=\"dataframe\">\n",
       "  <thead>\n",
       "    <tr style=\"text-align: right;\">\n",
       "      <th></th>\n",
       "      <th>Region_Name</th>\n",
       "      <th>Department_Count</th>\n",
       "    </tr>\n",
       "  </thead>\n",
       "  <tbody>\n",
       "    <tr>\n",
       "      <th>0</th>\n",
       "      <td>Brittany - Bretagne</td>\n",
       "      <td>11</td>\n",
       "    </tr>\n",
       "    <tr>\n",
       "      <th>1</th>\n",
       "      <td>Midi-Pyrénées</td>\n",
       "      <td>10</td>\n",
       "    </tr>\n",
       "    <tr>\n",
       "      <th>2</th>\n",
       "      <td>Provence Alpes Côte-d'Azur (PACA)</td>\n",
       "      <td>10</td>\n",
       "    </tr>\n",
       "    <tr>\n",
       "      <th>3</th>\n",
       "      <td>Ile-de-France</td>\n",
       "      <td>8</td>\n",
       "    </tr>\n",
       "    <tr>\n",
       "      <th>4</th>\n",
       "      <td>Rhône-Alpes</td>\n",
       "      <td>8</td>\n",
       "    </tr>\n",
       "  </tbody>\n",
       "</table>\n",
       "</div>"
      ],
      "text/plain": [
       "                         Region_Name  Department_Count\n",
       "0                Brittany - Bretagne                11\n",
       "1                      Midi-Pyrénées                10\n",
       "2  Provence Alpes Côte-d'Azur (PACA)                10\n",
       "3                      Ile-de-France                 8\n",
       "4                        Rhône-Alpes                 8"
      ]
     },
     "execution_count": 9,
     "metadata": {},
     "output_type": "execute_result"
    }
   ],
   "source": [
    "# Count departments per region\n",
    "dept_counts = departments_df['Name'].value_counts().reset_index()\n",
    "dept_counts.columns = ['Region_Name', 'Department_Count']\n",
    "dept_counts.head()"
   ]
  },
  {
   "cell_type": "code",
   "execution_count": 10,
   "id": "5016ec84",
   "metadata": {},
   "outputs": [
    {
     "data": {
      "application/vnd.microsoft.datawrangler.viewer.v0+json": {
       "columns": [
        {
         "name": "index",
         "rawType": "int64",
         "type": "integer"
        },
        {
         "name": "Ind",
         "rawType": "int64",
         "type": "integer"
        },
        {
         "name": "Rname",
         "rawType": "object",
         "type": "string"
        },
        {
         "name": "Name",
         "rawType": "object",
         "type": "string"
        },
        {
         "name": "Region",
         "rawType": "object",
         "type": "string"
        },
        {
         "name": "Volume",
         "rawType": "int64",
         "type": "integer"
        }
       ],
       "ref": "342b0f86-d841-4c85-aea4-6a68a84fb023",
       "rows": [
        [
         "0",
         "1",
         "Nord",
         "Nord-Pas-de-Calais",
         "R31",
         "4107148"
        ],
        [
         "1",
         "2",
         "Pas-de-Calais",
         "Nord-Pas-de-Calais",
         "R31",
         "4107148"
        ],
        [
         "2",
         "3",
         "Somme",
         "Picardie",
         "R22",
         "1962150"
        ],
        [
         "3",
         "4",
         "Nord:1",
         "Nord-Pas-de-Calais",
         "R31",
         "4107148"
        ],
        [
         "4",
         "5",
         "Ardennes",
         "Champagne-Ardenne",
         "R21",
         "1373935"
        ]
       ],
       "shape": {
        "columns": 5,
        "rows": 5
       }
      },
      "text/html": [
       "<div>\n",
       "<style scoped>\n",
       "    .dataframe tbody tr th:only-of-type {\n",
       "        vertical-align: middle;\n",
       "    }\n",
       "\n",
       "    .dataframe tbody tr th {\n",
       "        vertical-align: top;\n",
       "    }\n",
       "\n",
       "    .dataframe thead th {\n",
       "        text-align: right;\n",
       "    }\n",
       "</style>\n",
       "<table border=\"1\" class=\"dataframe\">\n",
       "  <thead>\n",
       "    <tr style=\"text-align: right;\">\n",
       "      <th></th>\n",
       "      <th>Ind</th>\n",
       "      <th>Rname</th>\n",
       "      <th>Name</th>\n",
       "      <th>Region</th>\n",
       "      <th>Volume</th>\n",
       "    </tr>\n",
       "  </thead>\n",
       "  <tbody>\n",
       "    <tr>\n",
       "      <th>0</th>\n",
       "      <td>1</td>\n",
       "      <td>Nord</td>\n",
       "      <td>Nord-Pas-de-Calais</td>\n",
       "      <td>R31</td>\n",
       "      <td>4107148</td>\n",
       "    </tr>\n",
       "    <tr>\n",
       "      <th>1</th>\n",
       "      <td>2</td>\n",
       "      <td>Pas-de-Calais</td>\n",
       "      <td>Nord-Pas-de-Calais</td>\n",
       "      <td>R31</td>\n",
       "      <td>4107148</td>\n",
       "    </tr>\n",
       "    <tr>\n",
       "      <th>2</th>\n",
       "      <td>3</td>\n",
       "      <td>Somme</td>\n",
       "      <td>Picardie</td>\n",
       "      <td>R22</td>\n",
       "      <td>1962150</td>\n",
       "    </tr>\n",
       "    <tr>\n",
       "      <th>3</th>\n",
       "      <td>4</td>\n",
       "      <td>Nord:1</td>\n",
       "      <td>Nord-Pas-de-Calais</td>\n",
       "      <td>R31</td>\n",
       "      <td>4107148</td>\n",
       "    </tr>\n",
       "    <tr>\n",
       "      <th>4</th>\n",
       "      <td>5</td>\n",
       "      <td>Ardennes</td>\n",
       "      <td>Champagne-Ardenne</td>\n",
       "      <td>R21</td>\n",
       "      <td>1373935</td>\n",
       "    </tr>\n",
       "  </tbody>\n",
       "</table>\n",
       "</div>"
      ],
      "text/plain": [
       "   Ind          Rname                Name Region   Volume\n",
       "0    1           Nord  Nord-Pas-de-Calais    R31  4107148\n",
       "1    2  Pas-de-Calais  Nord-Pas-de-Calais    R31  4107148\n",
       "2    3          Somme            Picardie    R22  1962150\n",
       "3    4         Nord:1  Nord-Pas-de-Calais    R31  4107148\n",
       "4    5       Ardennes   Champagne-Ardenne    R21  1373935"
      ]
     },
     "execution_count": 10,
     "metadata": {},
     "output_type": "execute_result"
    }
   ],
   "source": [
    "merged_df = departments_df.merge(regions_df, left_on=\"Name\", right_on=\"Name\", how=\"left\")\n",
    "merged_df.head()"
   ]
  },
  {
   "cell_type": "code",
   "execution_count": 11,
   "id": "1e468c32",
   "metadata": {},
   "outputs": [],
   "source": [
    "merged_df[\"Volume_per_Department\"] = merged_df[\"Volume\"] / dept_counts[\"Department_Count\"]"
   ]
  },
  {
   "cell_type": "code",
   "execution_count": 12,
   "id": "cbffbcf6",
   "metadata": {},
   "outputs": [
    {
     "name": "stderr",
     "output_type": "stream",
     "text": [
      "/Users/dusanzdravkovic/anaconda3/lib/python3.11/site-packages/seaborn/algorithms.py:98: RuntimeWarning: Mean of empty slice\n",
      "  boot_dist.append(f(*sample, **func_kwargs))\n",
      "/Users/dusanzdravkovic/anaconda3/lib/python3.11/site-packages/numpy/lib/nanfunctions.py:1556: RuntimeWarning: All-NaN slice encountered\n",
      "  return function_base._ureduce(a,\n"
     ]
    },
    {
     "data": {
      "text/plain": [
       "Text(0.5, 1.0, 'Volume per Department by Region')"
      ]
     },
     "execution_count": 12,
     "metadata": {},
     "output_type": "execute_result"
    },
    {
     "data": {
      "image/png": "[encoded data removed]",
      "text/plain": [
       "<Figure size 640x480 with 1 Axes>"
      ]
     },
     "metadata": {},
     "output_type": "display_data"
    }
   ],
   "source": [
    "import seaborn as sns\n",
    "\n",
    "sns.barplot(data=merged_df, x=\"Volume_per_Department\", y=\"Name\")\n",
    "plt.title(\"Volume per Department by Region\")"
   ]
  },
  {
   "cell_type": "code",
   "execution_count": null,
   "id": "f415dae5",
   "metadata": {},
   "outputs": [],
   "source": []
  }
 ],
 "metadata": {
  "kernelspec": {
   "display_name": "base",
   "language": "python",
   "name": "python3"
  },
  "language_info": {
   "codemirror_mode": {
    "name": "ipython",
    "version": 3
   },
   "file_extension": ".py",
   "mimetype": "text/x-python",
   "name": "python",
   "nbconvert_exporter": "python",
   "pygments_lexer": "ipython3",
   "version": "3.11.5"
  }
 },
 "nbformat": 4,
 "nbformat_minor": 5
}
