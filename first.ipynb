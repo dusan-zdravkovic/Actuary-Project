{
 "cells": [
  {
   "cell_type": "code",
   "execution_count": 6,
   "id": "5df32f71",
   "metadata": {},
   "outputs": [],
   "source": [
    "# Survival Models \n",
    "# Date: 2025-06-24\n",
    "\n",
    "# This notebook explores survival models used in actuarial science.\n",
    "# We'll begin with basic lifetime distributions and simulate survival times.\n",
    "\n",
    "import numpy as np\n",
    "import pandas as pd\n",
    "import matplotlib.pyplot as plt\n",
    "from scipy.stats import expon, weibull_min\n",
    "\n",
    "# Set default plot style\n",
    "plt.style.use(\"ggplot\")"
   ]
  },
  {
   "cell_type": "code",
   "execution_count": 7,
   "id": "f9c951b8",
   "metadata": {},
   "outputs": [
    {
     "data": {
      "image/png": "[encoded data removed]",
      "text/plain": [
       "<Figure size 640x480 with 1 Axes>"
      ]
     },
     "metadata": {},
     "output_type": "display_data"
    }
   ],
   "source": [
    "# Simulate lifetimes using an exponential distribution\n",
    "# The exponential distribution models the time until an event (like death or failure) with constant hazard rate\n",
    "\n",
    "# λ (lambda) is the rate parameter; higher lambda = shorter lifetimes\n",
    "lambda_val = 0.1  # example rate\n",
    "n = 1000  # number of simulated lifetimes\n",
    "\n",
    "# Generate lifetimes\n",
    "lifetimes = np.random.exponential(scale=1/lambda_val, size=n)\n",
    "\n",
    "# Plot histogram of simulated lifetimes\n",
    "plt.hist(lifetimes, bins=30, edgecolor='black')\n",
    "plt.title('Simulated Exponential Lifetimes')\n",
    "plt.xlabel('Time')\n",
    "plt.ylabel('Frequency')\n",
    "plt.show()"
   ]
  },
  {
   "cell_type": "code",
   "execution_count": 9,
   "id": "394036ca",
   "metadata": {},
   "outputs": [
    {
     "data": {
      "application/vnd.microsoft.datawrangler.viewer.v0+json": {
       "columns": [
        {
         "name": "index",
         "rawType": "int64",
         "type": "integer"
        },
        {
         "name": "Name",
         "rawType": "object",
         "type": "string"
        },
        {
         "name": "Region",
         "rawType": "object",
         "type": "string"
        },
        {
         "name": "Volume",
         "rawType": "int64",
         "type": "integer"
        }
       ],
       "ref": "cbb08a3a-8bb1-4caa-9520-12f1bc6048ae",
       "rows": [
        [
         "0",
         "Ile-de-France",
         "R11",
         "11938714"
        ],
        [
         "1",
         "Champagne-Ardenne",
         "R21",
         "1373935"
        ],
        [
         "2",
         "Picardie",
         "R22",
         "1962150"
        ],
        [
         "3",
         "Haute-Normandie",
         "R23",
         "1879146"
        ],
        [
         "4",
         "Centre",
         "R24",
         "2619613"
        ]
       ],
       "shape": {
        "columns": 3,
        "rows": 5
       }
      },
      "text/html": [
       "<div>\n",
       "<style scoped>\n",
       "    .dataframe tbody tr th:only-of-type {\n",
       "        vertical-align: middle;\n",
       "    }\n",
       "\n",
       "    .dataframe tbody tr th {\n",
       "        vertical-align: top;\n",
       "    }\n",
       "\n",
       "    .dataframe thead th {\n",
       "        text-align: right;\n",
       "    }\n",
       "</style>\n",
       "<table border=\"1\" class=\"dataframe\">\n",
       "  <thead>\n",
       "    <tr style=\"text-align: right;\">\n",
       "      <th></th>\n",
       "      <th>Name</th>\n",
       "      <th>Region</th>\n",
       "      <th>Volume</th>\n",
       "    </tr>\n",
       "  </thead>\n",
       "  <tbody>\n",
       "    <tr>\n",
       "      <th>0</th>\n",
       "      <td>Ile-de-France</td>\n",
       "      <td>R11</td>\n",
       "      <td>11938714</td>\n",
       "    </tr>\n",
       "    <tr>\n",
       "      <th>1</th>\n",
       "      <td>Champagne-Ardenne</td>\n",
       "      <td>R21</td>\n",
       "      <td>1373935</td>\n",
       "    </tr>\n",
       "    <tr>\n",
       "      <th>2</th>\n",
       "      <td>Picardie</td>\n",
       "      <td>R22</td>\n",
       "      <td>1962150</td>\n",
       "    </tr>\n",
       "    <tr>\n",
       "      <th>3</th>\n",
       "      <td>Haute-Normandie</td>\n",
       "      <td>R23</td>\n",
       "      <td>1879146</td>\n",
       "    </tr>\n",
       "    <tr>\n",
       "      <th>4</th>\n",
       "      <td>Centre</td>\n",
       "      <td>R24</td>\n",
       "      <td>2619613</td>\n",
       "    </tr>\n",
       "  </tbody>\n",
       "</table>\n",
       "</div>"
      ],
      "text/plain": [
       "                Name Region    Volume\n",
       "0      Ile-de-France    R11  11938714\n",
       "1  Champagne-Ardenne    R21   1373935\n",
       "2           Picardie    R22   1962150\n",
       "3    Haute-Normandie    R23   1879146\n",
       "4             Centre    R24   2619613"
      ]
     },
     "execution_count": 9,
     "metadata": {},
     "output_type": "execute_result"
    }
   ],
   "source": [
    "import pandas as pd\n",
    "\n",
    "# Load and view regions.csv using full file path and UTF-8 encoding\n",
    "file_path = \"/Users/dusanzdravkovic/Desktop/Actuary-Project/data/regions.csv\"\n",
    "regions_df = pd.read_csv(file_path, sep=\";\", encoding=\"ISO-8859-1\", engine=\"python\")\n",
    "\n",
    "# Show first few rows\n",
    "regions_df.head()"
   ]
  },
  {
   "cell_type": "code",
   "execution_count": null,
   "id": "2beda6df",
   "metadata": {},
   "outputs": [],
   "source": []
  }
 ],
 "metadata": {
  "kernelspec": {
   "display_name": "Python (algo-trading)",
   "language": "python",
   "name": "algo-trading"
  },
  "language_info": {
   "codemirror_mode": {
    "name": "ipython",
    "version": 3
   },
   "file_extension": ".py",
   "mimetype": "text/x-python",
   "name": "python",
   "nbconvert_exporter": "python",
   "pygments_lexer": "ipython3",
   "version": "3.9.20"
  }
 },
 "nbformat": 4,
 "nbformat_minor": 5
}
